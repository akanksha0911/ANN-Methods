{
  "nbformat": 4,
  "nbformat_minor": 5,
  "metadata": {
    "colab": {
      "name": "ANN methods using-FAISS/Annoy.ipynb",
      "provenance": [],
      "collapsed_sections": [],
      "include_colab_link": true
    },
    "kernelspec": {
      "display_name": "Python 3",
      "language": "python",
      "name": "python3"
    },
    "language_info": {
      "codemirror_mode": {
        "name": "ipython",
        "version": 3
      },
      "file_extension": ".py",
      "mimetype": "text/x-python",
      "name": "python",
      "nbconvert_exporter": "python",
      "pygments_lexer": "ipython3",
      "version": "3.8.8"
    }
  },
  "cells": [
    {
      "cell_type": "markdown",
      "metadata": {
        "id": "view-in-github",
        "colab_type": "text"
      },
      "source": [
        "<a href=\"https://colab.research.google.com/github/akanksha0911/ANN-Methods/blob/main/ANN_methods_using_FAISS_Annoy.ipynb\" target=\"_parent\"><img src=\"https://colab.research.google.com/assets/colab-badge.svg\" alt=\"Open In Colab\"/></a>"
      ]
    },
    {
      "cell_type": "code",
      "metadata": {
        "colab": {
          "base_uri": "https://localhost:8080/"
        },
        "id": "f99-NdJzPZzt",
        "outputId": "1a211462-48cb-45c8-dcdd-6196dca25b85"
      },
      "source": [
        "!apt install libomp-dev\n",
        "!python -m pip install --upgrade faiss\n",
        "import faiss"
      ],
      "id": "f99-NdJzPZzt",
      "execution_count": 151,
      "outputs": [
        {
          "output_type": "stream",
          "name": "stdout",
          "text": [
            "Reading package lists... Done\n",
            "Building dependency tree       \n",
            "Reading state information... Done\n",
            "libomp-dev is already the newest version (5.0.1-1).\n",
            "0 upgraded, 0 newly installed, 0 to remove and 37 not upgraded.\n",
            "Requirement already satisfied: faiss in /usr/local/lib/python3.7/dist-packages (1.5.3)\n",
            "Requirement already satisfied: numpy in /usr/local/lib/python3.7/dist-packages (from faiss) (1.19.5)\n"
          ]
        }
      ]
    },
    {
      "cell_type": "code",
      "metadata": {
        "id": "FT6UNWOSXRXw",
        "colab": {
          "base_uri": "https://localhost:8080/"
        },
        "outputId": "7abc9cd7-7a0c-4b7a-c94c-d770fca78364"
      },
      "source": [
        "!pip install annoy"
      ],
      "id": "FT6UNWOSXRXw",
      "execution_count": 152,
      "outputs": [
        {
          "output_type": "stream",
          "name": "stdout",
          "text": [
            "Requirement already satisfied: annoy in /usr/local/lib/python3.7/dist-packages (1.17.0)\n"
          ]
        }
      ]
    },
    {
      "cell_type": "code",
      "metadata": {
        "id": "0vRM7p6di7OA"
      },
      "source": [
        "import annoy"
      ],
      "id": "0vRM7p6di7OA",
      "execution_count": 153,
      "outputs": []
    },
    {
      "cell_type": "code",
      "metadata": {
        "id": "7hrz_rvzXleO"
      },
      "source": [
        "from annoy import AnnoyIndex\n",
        "import random"
      ],
      "id": "7hrz_rvzXleO",
      "execution_count": 154,
      "outputs": []
    },
    {
      "cell_type": "code",
      "metadata": {
        "id": "fLVnZvVJuMNy",
        "colab": {
          "base_uri": "https://localhost:8080/"
        },
        "outputId": "5a505a80-7ba9-413d-f2d7-d695fe3b1ab2"
      },
      "source": [
        " !pip install sentence-transformers\n"
      ],
      "id": "fLVnZvVJuMNy",
      "execution_count": 155,
      "outputs": [
        {
          "output_type": "stream",
          "name": "stdout",
          "text": [
            "Requirement already satisfied: sentence-transformers in /usr/local/lib/python3.7/dist-packages (2.1.0)\n",
            "Requirement already satisfied: transformers<5.0.0,>=4.6.0 in /usr/local/lib/python3.7/dist-packages (from sentence-transformers) (4.12.5)\n",
            "Requirement already satisfied: tokenizers>=0.10.3 in /usr/local/lib/python3.7/dist-packages (from sentence-transformers) (0.10.3)\n",
            "Requirement already satisfied: torchvision in /usr/local/lib/python3.7/dist-packages (from sentence-transformers) (0.11.1+cu111)\n",
            "Requirement already satisfied: huggingface-hub in /usr/local/lib/python3.7/dist-packages (from sentence-transformers) (0.1.2)\n",
            "Requirement already satisfied: tqdm in /usr/local/lib/python3.7/dist-packages (from sentence-transformers) (4.62.3)\n",
            "Requirement already satisfied: nltk in /usr/local/lib/python3.7/dist-packages (from sentence-transformers) (3.2.5)\n",
            "Requirement already satisfied: scikit-learn in /usr/local/lib/python3.7/dist-packages (from sentence-transformers) (1.0.1)\n",
            "Requirement already satisfied: sentencepiece in /usr/local/lib/python3.7/dist-packages (from sentence-transformers) (0.1.96)\n",
            "Requirement already satisfied: numpy in /usr/local/lib/python3.7/dist-packages (from sentence-transformers) (1.19.5)\n",
            "Requirement already satisfied: scipy in /usr/local/lib/python3.7/dist-packages (from sentence-transformers) (1.4.1)\n",
            "Requirement already satisfied: torch>=1.6.0 in /usr/local/lib/python3.7/dist-packages (from sentence-transformers) (1.10.0+cu111)\n",
            "Requirement already satisfied: typing-extensions in /usr/local/lib/python3.7/dist-packages (from torch>=1.6.0->sentence-transformers) (3.10.0.2)\n",
            "Requirement already satisfied: regex!=2019.12.17 in /usr/local/lib/python3.7/dist-packages (from transformers<5.0.0,>=4.6.0->sentence-transformers) (2019.12.20)\n",
            "Requirement already satisfied: sacremoses in /usr/local/lib/python3.7/dist-packages (from transformers<5.0.0,>=4.6.0->sentence-transformers) (0.0.46)\n",
            "Requirement already satisfied: packaging>=20.0 in /usr/local/lib/python3.7/dist-packages (from transformers<5.0.0,>=4.6.0->sentence-transformers) (21.3)\n",
            "Requirement already satisfied: pyyaml>=5.1 in /usr/local/lib/python3.7/dist-packages (from transformers<5.0.0,>=4.6.0->sentence-transformers) (6.0)\n",
            "Requirement already satisfied: requests in /usr/local/lib/python3.7/dist-packages (from transformers<5.0.0,>=4.6.0->sentence-transformers) (2.23.0)\n",
            "Requirement already satisfied: filelock in /usr/local/lib/python3.7/dist-packages (from transformers<5.0.0,>=4.6.0->sentence-transformers) (3.4.0)\n",
            "Requirement already satisfied: importlib-metadata in /usr/local/lib/python3.7/dist-packages (from transformers<5.0.0,>=4.6.0->sentence-transformers) (4.8.2)\n",
            "Requirement already satisfied: pyparsing!=3.0.5,>=2.0.2 in /usr/local/lib/python3.7/dist-packages (from packaging>=20.0->transformers<5.0.0,>=4.6.0->sentence-transformers) (3.0.6)\n",
            "Requirement already satisfied: zipp>=0.5 in /usr/local/lib/python3.7/dist-packages (from importlib-metadata->transformers<5.0.0,>=4.6.0->sentence-transformers) (3.6.0)\n",
            "Requirement already satisfied: six in /usr/local/lib/python3.7/dist-packages (from nltk->sentence-transformers) (1.15.0)\n",
            "Requirement already satisfied: chardet<4,>=3.0.2 in /usr/local/lib/python3.7/dist-packages (from requests->transformers<5.0.0,>=4.6.0->sentence-transformers) (3.0.4)\n",
            "Requirement already satisfied: idna<3,>=2.5 in /usr/local/lib/python3.7/dist-packages (from requests->transformers<5.0.0,>=4.6.0->sentence-transformers) (2.10)\n",
            "Requirement already satisfied: urllib3!=1.25.0,!=1.25.1,<1.26,>=1.21.1 in /usr/local/lib/python3.7/dist-packages (from requests->transformers<5.0.0,>=4.6.0->sentence-transformers) (1.24.3)\n",
            "Requirement already satisfied: certifi>=2017.4.17 in /usr/local/lib/python3.7/dist-packages (from requests->transformers<5.0.0,>=4.6.0->sentence-transformers) (2021.10.8)\n",
            "Requirement already satisfied: joblib in /usr/local/lib/python3.7/dist-packages (from sacremoses->transformers<5.0.0,>=4.6.0->sentence-transformers) (1.1.0)\n",
            "Requirement already satisfied: click in /usr/local/lib/python3.7/dist-packages (from sacremoses->transformers<5.0.0,>=4.6.0->sentence-transformers) (7.1.2)\n",
            "Requirement already satisfied: threadpoolctl>=2.0.0 in /usr/local/lib/python3.7/dist-packages (from scikit-learn->sentence-transformers) (3.0.0)\n",
            "Requirement already satisfied: pillow!=8.3.0,>=5.3.0 in /usr/local/lib/python3.7/dist-packages (from torchvision->sentence-transformers) (7.1.2)\n"
          ]
        }
      ]
    },
    {
      "cell_type": "code",
      "metadata": {
        "id": "3zEaVEzfpCn1"
      },
      "source": [
        "import requests\n",
        "from io import StringIO\n",
        "import pandas as pd"
      ],
      "id": "3zEaVEzfpCn1",
      "execution_count": 156,
      "outputs": []
    },
    {
      "cell_type": "code",
      "metadata": {
        "id": "wdYhl4OQq_Sj",
        "colab": {
          "base_uri": "https://localhost:8080/",
          "height": 206
        },
        "outputId": "35cc5ffe-e0d1-4130-bb5c-f1f1f15d9ced"
      },
      "source": [
        "data = pd.read_csv('/content/Untitled spreadsheet - Sheet1 (1).csv')\n",
        "data.head()"
      ],
      "id": "wdYhl4OQq_Sj",
      "execution_count": 157,
      "outputs": [
        {
          "output_type": "execute_result",
          "data": {
            "text/html": [
              "<div>\n",
              "<style scoped>\n",
              "    .dataframe tbody tr th:only-of-type {\n",
              "        vertical-align: middle;\n",
              "    }\n",
              "\n",
              "    .dataframe tbody tr th {\n",
              "        vertical-align: top;\n",
              "    }\n",
              "\n",
              "    .dataframe thead th {\n",
              "        text-align: right;\n",
              "    }\n",
              "</style>\n",
              "<table border=\"1\" class=\"dataframe\">\n",
              "  <thead>\n",
              "    <tr style=\"text-align: right;\">\n",
              "      <th></th>\n",
              "      <th>Sentences</th>\n",
              "    </tr>\n",
              "  </thead>\n",
              "  <tbody>\n",
              "    <tr>\n",
              "      <th>0</th>\n",
              "      <td>Good health is central to handling stress and ...</td>\n",
              "    </tr>\n",
              "    <tr>\n",
              "      <th>1</th>\n",
              "      <td>Health is a state of complete physical, mental...</td>\n",
              "    </tr>\n",
              "    <tr>\n",
              "      <th>2</th>\n",
              "      <td>Mental and physical health are probably the tw...</td>\n",
              "    </tr>\n",
              "    <tr>\n",
              "      <th>3</th>\n",
              "      <td>Football is the world’s most popular ball game...</td>\n",
              "    </tr>\n",
              "    <tr>\n",
              "      <th>4</th>\n",
              "      <td>Modern football originated in Britain in the 1...</td>\n",
              "    </tr>\n",
              "  </tbody>\n",
              "</table>\n",
              "</div>"
            ],
            "text/plain": [
              "                                           Sentences\n",
              "0  Good health is central to handling stress and ...\n",
              "1  Health is a state of complete physical, mental...\n",
              "2  Mental and physical health are probably the tw...\n",
              "3  Football is the world’s most popular ball game...\n",
              "4  Modern football originated in Britain in the 1..."
            ]
          },
          "metadata": {},
          "execution_count": 157
        }
      ]
    },
    {
      "cell_type": "code",
      "metadata": {
        "id": "3zLMlT1XrDk6",
        "colab": {
          "base_uri": "https://localhost:8080/"
        },
        "outputId": "33961e20-75a1-4467-d82d-4ac6b987b5e4"
      },
      "source": [
        "sentences = data['Sentences'].tolist()\n",
        "sentences[:5]"
      ],
      "id": "3zLMlT1XrDk6",
      "execution_count": 158,
      "outputs": [
        {
          "output_type": "execute_result",
          "data": {
            "text/plain": [
              "['Good health is central to handling stress and living a longer, more active life',\n",
              " 'Health is a state of complete physical, mental, and social well-being and not merely the absence of disease or infirmity',\n",
              " 'Mental and physical health are probably the two most frequently discussed types of health.',\n",
              " 'Football is the world’s most popular ball game in numbers of participants and spectators',\n",
              " 'Modern football originated in Britain in the 19th century.']"
            ]
          },
          "metadata": {},
          "execution_count": 158
        }
      ]
    },
    {
      "cell_type": "code",
      "metadata": {
        "id": "nIBNXOBXrFds",
        "colab": {
          "base_uri": "https://localhost:8080/"
        },
        "outputId": "6ed491e8-cf61-44cd-c6df-216ada0c218d"
      },
      "source": [
        "sentences = data['Sentences'].tolist()\n",
        "len(set(sentences)) "
      ],
      "id": "nIBNXOBXrFds",
      "execution_count": 159,
      "outputs": [
        {
          "output_type": "execute_result",
          "data": {
            "text/plain": [
              "9"
            ]
          },
          "metadata": {},
          "execution_count": 159
        }
      ]
    },
    {
      "cell_type": "code",
      "metadata": {
        "id": "iUDmnTJOro2R"
      },
      "source": [
        "# remove duplicates and NaN\n",
        "sentences = [word for word in list(set(sentences)) if type(word) is str]"
      ],
      "id": "iUDmnTJOro2R",
      "execution_count": 160,
      "outputs": []
    },
    {
      "cell_type": "code",
      "metadata": {
        "id": "ITHDjS5brwGB",
        "colab": {
          "base_uri": "https://localhost:8080/"
        },
        "outputId": "3c8a84b9-4676-4239-939c-551716109e5f"
      },
      "source": [
        "from sentence_transformers import SentenceTransformer\n",
        "# initialize sentence transformer model\n",
        "model = SentenceTransformer('bert-base-nli-mean-tokens')\n",
        "# create sentence embeddings\n",
        "sentence_embeddings = model.encode(sentences)\n",
        "sentence_embeddings.shape"
      ],
      "id": "ITHDjS5brwGB",
      "execution_count": 161,
      "outputs": [
        {
          "output_type": "execute_result",
          "data": {
            "text/plain": [
              "(9, 768)"
            ]
          },
          "metadata": {},
          "execution_count": 161
        }
      ]
    },
    {
      "cell_type": "code",
      "metadata": {
        "id": "zWSwppyswpaG",
        "colab": {
          "base_uri": "https://localhost:8080/"
        },
        "outputId": "c0a63b5c-decc-4961-a80a-a34416970f10"
      },
      "source": [
        "d = sentence_embeddings.shape[1]\n",
        "d"
      ],
      "id": "zWSwppyswpaG",
      "execution_count": 162,
      "outputs": [
        {
          "output_type": "execute_result",
          "data": {
            "text/plain": [
              "768"
            ]
          },
          "metadata": {},
          "execution_count": 162
        }
      ]
    },
    {
      "cell_type": "code",
      "metadata": {
        "id": "fIrqNcUAwuxj"
      },
      "source": [
        "nbits=d*2\n",
        "index = faiss.IndexLSH(d,nbits)"
      ],
      "id": "fIrqNcUAwuxj",
      "execution_count": 163,
      "outputs": []
    },
    {
      "cell_type": "code",
      "metadata": {
        "id": "l1wtCImMwwGs",
        "colab": {
          "base_uri": "https://localhost:8080/"
        },
        "outputId": "5823c1b4-377a-40dd-cee6-f47e816637ba"
      },
      "source": [
        "index.is_trained"
      ],
      "id": "l1wtCImMwwGs",
      "execution_count": 164,
      "outputs": [
        {
          "output_type": "execute_result",
          "data": {
            "text/plain": [
              "True"
            ]
          },
          "metadata": {},
          "execution_count": 164
        }
      ]
    },
    {
      "cell_type": "code",
      "metadata": {
        "id": "bNziCmwDx07b"
      },
      "source": [
        "index.add(sentence_embeddings)"
      ],
      "id": "bNziCmwDx07b",
      "execution_count": 165,
      "outputs": []
    },
    {
      "cell_type": "code",
      "metadata": {
        "id": "5hizcSr_x3Hs",
        "colab": {
          "base_uri": "https://localhost:8080/"
        },
        "outputId": "348c9b1b-d304-49e8-bf4b-c7b4d219db3d"
      },
      "source": [
        "index.ntotal"
      ],
      "id": "5hizcSr_x3Hs",
      "execution_count": 166,
      "outputs": [
        {
          "output_type": "execute_result",
          "data": {
            "text/plain": [
              "9"
            ]
          },
          "metadata": {},
          "execution_count": 166
        }
      ]
    },
    {
      "cell_type": "code",
      "metadata": {
        "id": "XLYlkHAkx5QP"
      },
      "source": [
        "k = 4\n",
        "xq = model.encode([\"health\"])"
      ],
      "id": "XLYlkHAkx5QP",
      "execution_count": 167,
      "outputs": []
    },
    {
      "cell_type": "code",
      "metadata": {
        "id": "7-My6odNyCnC",
        "colab": {
          "base_uri": "https://localhost:8080/"
        },
        "outputId": "783e9593-4bae-4358-8303-5cb351cb5530"
      },
      "source": [
        "\n",
        "D, I = index.search(xq, k)  # search\n",
        "print(I)"
      ],
      "id": "7-My6odNyCnC",
      "execution_count": 168,
      "outputs": [
        {
          "output_type": "stream",
          "name": "stdout",
          "text": [
            "[[2 5 4 8]]\n"
          ]
        }
      ]
    },
    {
      "cell_type": "code",
      "metadata": {
        "id": "8vgg8LicyLk5",
        "colab": {
          "base_uri": "https://localhost:8080/"
        },
        "outputId": "c33b8bd3-f405-4b35-cb9a-33e89d84bdfa"
      },
      "source": [
        "data['Sentences'].iloc[[1,6,7,8]]"
      ],
      "id": "8vgg8LicyLk5",
      "execution_count": 169,
      "outputs": [
        {
          "output_type": "execute_result",
          "data": {
            "text/plain": [
              "1    Health is a state of complete physical, mental...\n",
              "6    he variance in rules made it difficult for pub...\n",
              "7    The consequence was that northern clubs, with ...\n",
              "8    n its most general form, the activities descri...\n",
              "Name: Sentences, dtype: object"
            ]
          },
          "metadata": {},
          "execution_count": 169
        }
      ]
    },
    {
      "cell_type": "code",
      "metadata": {
        "id": "rQqM8pWQeovL",
        "colab": {
          "base_uri": "https://localhost:8080/"
        },
        "outputId": "f6a0b2a1-1941-4ec6-aaec-086ba70bbbce"
      },
      "source": [
        "sentence_embeddings[I[0]]"
      ],
      "id": "rQqM8pWQeovL",
      "execution_count": 170,
      "outputs": [
        {
          "output_type": "execute_result",
          "data": {
            "text/plain": [
              "array([[ 0.48714146,  0.54696697,  0.4888124 , ...,  0.5850455 ,\n",
              "        -0.33022356,  0.16207601],\n",
              "       [ 0.17000906, -0.15413846,  1.4202784 , ..., -0.1878344 ,\n",
              "        -0.40962493, -0.65946245],\n",
              "       [-0.04052224,  0.46956408,  0.38203186, ..., -0.4890077 ,\n",
              "         0.23508275, -0.49799684],\n",
              "       [ 0.31459934, -0.07955608,  1.086542  , ...,  0.53169256,\n",
              "        -1.0007148 ,  0.24592972]], dtype=float32)"
            ]
          },
          "metadata": {},
          "execution_count": 170
        }
      ]
    },
    {
      "cell_type": "code",
      "metadata": {
        "id": "2tB3E62cfIxM",
        "colab": {
          "base_uri": "https://localhost:8080/"
        },
        "outputId": "3b89c656-4e8c-4f2a-d8be-21f9a1815ca8"
      },
      "source": [
        "# and calculate the cosine similarity between each of these vectors and xq[0]\n",
        "from sklearn.metrics.pairwise import cosine_similarity\n",
        "\n",
        "cosine_similarity(sentence_embeddings[I[0]], [xq[0]])\n",
        "\n"
      ],
      "id": "2tB3E62cfIxM",
      "execution_count": 171,
      "outputs": [
        {
          "output_type": "execute_result",
          "data": {
            "text/plain": [
              "array([[0.57913065],\n",
              "       [0.5669739 ],\n",
              "       [0.4887184 ],\n",
              "       [0.25352752]], dtype=float32)"
            ]
          },
          "metadata": {},
          "execution_count": 171
        }
      ]
    },
    {
      "cell_type": "code",
      "metadata": {
        "id": "8SgpDXSNfizF",
        "colab": {
          "base_uri": "https://localhost:8080/"
        },
        "outputId": "211c0c74-de9b-422c-df13-08876f27f2d1"
      },
      "source": [
        "D"
      ],
      "id": "8SgpDXSNfizF",
      "execution_count": 172,
      "outputs": [
        {
          "output_type": "execute_result",
          "data": {
            "text/plain": [
              "array([[477., 488., 524., 655.]], dtype=float32)"
            ]
          },
          "metadata": {},
          "execution_count": 172
        }
      ]
    },
    {
      "cell_type": "markdown",
      "metadata": {
        "id": "Q7NNUPCumg3j"
      },
      "source": [
        "**Exhaustive Search**"
      ],
      "id": "Q7NNUPCumg3j"
    },
    {
      "cell_type": "code",
      "metadata": {
        "id": "vMoB_dOSmhZB",
        "colab": {
          "base_uri": "https://localhost:8080/"
        },
        "outputId": "6218ebc0-e8e6-47e8-a4a7-62bb39baf88a"
      },
      "source": [
        "index = faiss.IndexFlatL2(d)\n",
        "index.is_trained\n",
        "\n"
      ],
      "id": "vMoB_dOSmhZB",
      "execution_count": 173,
      "outputs": [
        {
          "output_type": "execute_result",
          "data": {
            "text/plain": [
              "True"
            ]
          },
          "metadata": {},
          "execution_count": 173
        }
      ]
    },
    {
      "cell_type": "code",
      "metadata": {
        "id": "NNgesX_im9Wr",
        "colab": {
          "base_uri": "https://localhost:8080/"
        },
        "outputId": "cd4962dc-a01e-45ff-efdf-bc4cba2cd767"
      },
      "source": [
        "index.add(sentence_embeddings)\n",
        "index.ntotal\n"
      ],
      "id": "NNgesX_im9Wr",
      "execution_count": 174,
      "outputs": [
        {
          "output_type": "execute_result",
          "data": {
            "text/plain": [
              "9"
            ]
          },
          "metadata": {},
          "execution_count": 174
        }
      ]
    },
    {
      "cell_type": "code",
      "metadata": {
        "id": "I-RIiCuonFCW"
      },
      "source": [
        "k = 4\n",
        "xq = model.encode([\"Someone sprints with a football\"])\n"
      ],
      "id": "I-RIiCuonFCW",
      "execution_count": 175,
      "outputs": []
    },
    {
      "cell_type": "code",
      "metadata": {
        "id": "mZuuMMsgnIYb",
        "colab": {
          "base_uri": "https://localhost:8080/"
        },
        "outputId": "f463986d-9cc9-4245-88dd-8b76762160ec"
      },
      "source": [
        "D, I = index.search(xq, k)  # search\n",
        "print(I)\n"
      ],
      "id": "mZuuMMsgnIYb",
      "execution_count": 176,
      "outputs": [
        {
          "output_type": "stream",
          "name": "stdout",
          "text": [
            "[[1 7 6 8]]\n"
          ]
        }
      ]
    },
    {
      "cell_type": "code",
      "metadata": {
        "id": "2-CoNYO7nPIb",
        "colab": {
          "base_uri": "https://localhost:8080/"
        },
        "outputId": "1f8d0fa1-b433-4578-b09d-4c9d79ffd859"
      },
      "source": [
        "data['Sentences'].iloc[[1,7,6 ,8]]"
      ],
      "id": "2-CoNYO7nPIb",
      "execution_count": 177,
      "outputs": [
        {
          "output_type": "execute_result",
          "data": {
            "text/plain": [
              "1    Health is a state of complete physical, mental...\n",
              "7    The consequence was that northern clubs, with ...\n",
              "6    he variance in rules made it difficult for pub...\n",
              "8    n its most general form, the activities descri...\n",
              "Name: Sentences, dtype: object"
            ]
          },
          "metadata": {},
          "execution_count": 177
        }
      ]
    },
    {
      "cell_type": "markdown",
      "metadata": {
        "id": "0RCItRPB5kBf"
      },
      "source": [
        "**HNSW Implementation**"
      ],
      "id": "0RCItRPB5kBf"
    },
    {
      "cell_type": "code",
      "metadata": {
        "id": "oQmaeN7A5r2L",
        "colab": {
          "base_uri": "https://localhost:8080/"
        },
        "outputId": "7ea7155b-bb06-4ad5-986c-8485eb0f46b7"
      },
      "source": [
        "# set HNSW index parameters\n",
        "M = 64  # number of connections each vertex will have\n",
        "ef_search = 32  # depth of layers explored during search\n",
        "ef_construction = 64  # depth of layers explored during index construction\n",
        "\n",
        "# initialize index (d == 128)\n",
        "index = faiss.IndexHNSWFlat(d, M)\n",
        "# set efConstruction and efSearch parameters\n",
        "index.hnsw.efConstruction = ef_construction\n",
        "index.hnsw.efSearch = ef_search\n",
        "# add data to index\n",
        "index.add(sentence_embeddings)\n",
        "\n",
        "# search as usual\n",
        "D, I = index.search(sentence_embeddings[I[0]], k=5)\n",
        "\n",
        "print(I)"
      ],
      "id": "oQmaeN7A5r2L",
      "execution_count": 178,
      "outputs": [
        {
          "output_type": "stream",
          "name": "stdout",
          "text": [
            "[[1 0 4 3 6]\n",
            " [7 3 8 2 4]\n",
            " [6 1 4 3 0]\n",
            " [8 7 4 5 2]]\n"
          ]
        }
      ]
    },
    {
      "cell_type": "markdown",
      "metadata": {
        "id": "8FLZwjVysKho"
      },
      "source": [
        "**Product Quantization**"
      ],
      "id": "8FLZwjVysKho"
    },
    {
      "cell_type": "code",
      "metadata": {
        "id": "5x7xxY2ssOpp"
      },
      "source": [
        "nlist = 3  # how many cells\n",
        "m = 2  # number of centroid IDs in final compressed vectors\n",
        "bits = 2 # number of bits in each centroid\n",
        "\n",
        "quantizer = faiss.IndexFlatL2(d)  # we keep the same L2 distance flat index\n",
        "index = faiss.IndexIVFPQ(quantizer, d, nlist, m, bits) "
      ],
      "id": "5x7xxY2ssOpp",
      "execution_count": 179,
      "outputs": []
    },
    {
      "cell_type": "code",
      "metadata": {
        "id": "lxzjolbOsu0p",
        "colab": {
          "base_uri": "https://localhost:8080/"
        },
        "outputId": "c550ec4f-03c9-4a01-f563-eda499a871ce"
      },
      "source": [
        "index.is_trained"
      ],
      "id": "lxzjolbOsu0p",
      "execution_count": 180,
      "outputs": [
        {
          "output_type": "execute_result",
          "data": {
            "text/plain": [
              "False"
            ]
          },
          "metadata": {},
          "execution_count": 180
        }
      ]
    },
    {
      "cell_type": "code",
      "metadata": {
        "id": "1EnOj__dsv36"
      },
      "source": [
        "index.train(sentence_embeddings)"
      ],
      "id": "1EnOj__dsv36",
      "execution_count": 181,
      "outputs": []
    },
    {
      "cell_type": "code",
      "metadata": {
        "id": "gsMtwLVesz0R"
      },
      "source": [
        "index.add(sentence_embeddings)\n"
      ],
      "id": "gsMtwLVesz0R",
      "execution_count": 182,
      "outputs": []
    },
    {
      "cell_type": "markdown",
      "metadata": {
        "id": "wm2O_CZhtM1C"
      },
      "source": [
        "number of nearby cells to search  with nprobe."
      ],
      "id": "wm2O_CZhtM1C"
    },
    {
      "cell_type": "code",
      "metadata": {
        "id": "WLJ01CRMtOJI"
      },
      "source": [
        "index.nprobe = 10 "
      ],
      "id": "WLJ01CRMtOJI",
      "execution_count": 183,
      "outputs": []
    },
    {
      "cell_type": "code",
      "metadata": {
        "id": "xGBHRYGWtU0R",
        "colab": {
          "base_uri": "https://localhost:8080/"
        },
        "outputId": "e9bf85c3-7dbd-46f2-9dfc-993bd7605e70"
      },
      "source": [
        "D, I = index.search(xq, k)\n",
        "print(I)\n"
      ],
      "id": "xGBHRYGWtU0R",
      "execution_count": 184,
      "outputs": [
        {
          "output_type": "stream",
          "name": "stdout",
          "text": [
            "[[1 8 4 3]]\n"
          ]
        }
      ]
    },
    {
      "cell_type": "code",
      "metadata": {
        "id": "7eF32id8tZeX",
        "colab": {
          "base_uri": "https://localhost:8080/"
        },
        "outputId": "d064ba8b-f611-4a21-9fc1-f4abb0121837"
      },
      "source": [
        "\n",
        "\n",
        "[f'{i}: {sentences[i]}' for i in I[0]]\n",
        "\n"
      ],
      "id": "7eF32id8tZeX",
      "execution_count": 185,
      "outputs": [
        {
          "output_type": "execute_result",
          "data": {
            "text/plain": [
              "['1: Football is the world’s most popular ball game in numbers of participants and spectators',\n",
              " '8: n its most general form, the activities describing music as an art form or cultural activity include the creation of works of music',\n",
              " '4: Mental and physical health are probably the two most frequently discussed types of health.',\n",
              " '3: he variance in rules made it difficult for public schoolboys entering university to continue playing except with former schoolmates']"
            ]
          },
          "metadata": {},
          "execution_count": 185
        }
      ]
    },
    {
      "cell_type": "markdown",
      "metadata": {
        "id": "QpA9XqpBttBv"
      },
      "source": [
        "**trees and graphs**"
      ],
      "id": "QpA9XqpBttBv"
    },
    {
      "cell_type": "code",
      "metadata": {
        "id": "yM4zHbVdtzn5",
        "colab": {
          "base_uri": "https://localhost:8080/"
        },
        "outputId": "618ff163-a96f-45c7-a436-da8196d627be"
      },
      "source": [
        "number_of_trees=5\n",
        "\n",
        "\n",
        "index = annoy.AnnoyIndex(d)\n",
        "for i, vec in enumerate(sentence_embeddings):\n",
        "  index.add_item(i, vec.tolist())\n",
        "index.build(number_of_trees)\n"
      ],
      "id": "yM4zHbVdtzn5",
      "execution_count": 186,
      "outputs": [
        {
          "output_type": "stream",
          "name": "stderr",
          "text": [
            "/usr/local/lib/python3.7/dist-packages/ipykernel_launcher.py:4: FutureWarning: The default argument for metric will be removed in future version of Annoy. Please pass metric='angular' explicitly.\n",
            "  after removing the cwd from sys.path.\n"
          ]
        },
        {
          "output_type": "execute_result",
          "data": {
            "text/plain": [
              "True"
            ]
          },
          "metadata": {},
          "execution_count": 186
        }
      ]
    },
    {
      "cell_type": "code",
      "metadata": {
        "id": "zORWZYAEPKLF",
        "colab": {
          "base_uri": "https://localhost:8080/"
        },
        "outputId": "4b77841d-8e34-47b7-d77a-437235916c37"
      },
      "source": [
        "k=4\n",
        "I = index.get_nns_by_vector(vec.tolist(), k, search_k=-1)                                         \n",
        "print(I)\n",
        "\n"
      ],
      "id": "zORWZYAEPKLF",
      "execution_count": 187,
      "outputs": [
        {
          "output_type": "stream",
          "name": "stdout",
          "text": [
            "[8, 7, 4, 5]\n"
          ]
        }
      ]
    },
    {
      "cell_type": "code",
      "metadata": {
        "colab": {
          "base_uri": "https://localhost:8080/"
        },
        "id": "JxIW8w4ePonD",
        "outputId": "33e454ea-e8cb-4305-816a-1718bdbcfb00"
      },
      "source": [
        "data['Sentences'].iloc[[8,7,4,5]]"
      ],
      "id": "JxIW8w4ePonD",
      "execution_count": 189,
      "outputs": [
        {
          "output_type": "execute_result",
          "data": {
            "text/plain": [
              "8    n its most general form, the activities descri...\n",
              "7    The consequence was that northern clubs, with ...\n",
              "4    Modern football originated in Britain in the 1...\n",
              "5    Each school had its own rules; some allowed li...\n",
              "Name: Sentences, dtype: object"
            ]
          },
          "metadata": {},
          "execution_count": 189
        }
      ]
    }
  ]
}